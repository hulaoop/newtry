{
 "cells": [
  {
   "cell_type": "code",
   "execution_count": 115,
   "id": "f1d94e3e",
   "metadata": {},
   "outputs": [
    {
     "data": {
      "text/plain": [
       "0     3241-照2班-第1组-(吕洁琳-于凡雅-吕炜煌-张澄著)-咖啡厅照明设计对顾客体验的影响...\n",
       "1              3241-照2班-第2组-(刘佳航-田桢-刘辛-邵叶敏辉)-庭院照明设计.JPG\n",
       "2     3241-照2班-第3组-(莫迪菲-王科尧-刘菊-于潇)-古建筑灯光设计对人们视觉体验的影响...\n",
       "3       3241-照2班-第4组-(丹增诺布（请假）-王滢钰-汪丽欣-农淋)-霓虹灯与城市照明.JPG\n",
       "4     3241-照2班-第5组-(范晓康-樊利云-吴泽恒-牛昕宇)-高楼大厦的外部景观照明类型分析...\n",
       "5     3241-照2班-第6组-(卢明权-石微-马芸薇-钱俊豪)-赌场的照明设计：以拉斯维加斯赌城...\n",
       "6       3241-照2班-第7组-(陈敏-翁明阳-蒋傲奕-吕佩仪)-照明美学在餐厅设计中的运用.JPG\n",
       "7          3241-照2班-第8组-(罗威-臧辰熙-罗维桦-高晟豪)-屏幕挂灯里的照明美学.JPG\n",
       "8      3241-照2班-第9组-(彭圣淇-陈季韬-郭佳垚-樊雯洁)-英雄联盟总决赛现场灯光研究.JPG\n",
       "9           3241-照2班-第10组-(陈阅微-侯佳彤-仝可一-汪娜)-舞台灯位设计介绍.JPG\n",
       "10         3241-照2班-第11组-(赵桂羚-陈钰-卓振益-张骞)-赏析奢侈品店照明美学.JPG\n",
       "11    3241-照2班-第12组-(刘泞菡-刘琦荟-戴少杰)-图书馆照明分析与优化—以厦门大学思明...\n",
       "Name: New, dtype: object"
      ]
     },
     "execution_count": 115,
     "metadata": {},
     "output_type": "execute_result"
    }
   ],
   "source": [
    "import os\n",
    "import pandas as pd\n",
    "import numpy as np\n",
    "df= pd.read_excel('12.5pre.xlsx')# 文件名\n",
    "condition = df['m3'].notna()\n",
    "# 根据条件创建 'New' 列\n",
    "group_numbers = df.index + 1\n",
    "df['New'] = np.where(condition,\n",
    "                     '3241-照2班-第' +group_numbers.astype(str) +'组-' + '(' + df['组长'] + '-' + df['m1'] + '-' + df['m2'] + '-' + df['m3'] + ')-' + df['theme']+'.JPG',\n",
    "                     '3241-照2班-第' +group_numbers.astype(str)  +'组-' +'(' + df['组长'] + '-' + df['m1'] + '-' + df['m2'] + ')-' + df['theme']+'.JPG')\n",
    "\n",
    "\n",
    "\n",
    "df['New'].to_excel('New.xlsx',index=False)\n",
    "df['New']\n",
    "\n"
   ]
  },
  {
   "cell_type": "code",
   "execution_count": 116,
   "id": "77d2caa5",
   "metadata": {},
   "outputs": [
    {
     "name": "stdout",
     "output_type": "stream",
     "text": [
      "[' 1.JPG', ' 2.JPG', ' 3.JPG', ' 4.JPG', ' 5.JPG', ' 6.JPG', ' 7.JPG', ' 8.JPG', ' 9.JPG', ' 10.JPG', ' 11.JPG', ' 12.JPG']\n"
     ]
    }
   ],
   "source": [
    "# 设置目录和 Excel 文件路径\n",
    "directory = '/Users/hulaoo/Desktop/12.5pre 2'# 文件夹位置\n",
    "\n",
    "# 获取目录下所有文件名\n",
    "files = os.listdir(directory)\n",
    "files.remove('.DS_Store')\n",
    "files.sort(key=lambda x:int(x.split('.')[0]))\n",
    "print(files)\n"
   ]
  },
  {
   "cell_type": "code",
   "execution_count": 117,
   "id": "7a145951",
   "metadata": {},
   "outputs": [
    {
     "data": {
      "text/html": [
       "<div>\n",
       "<style scoped>\n",
       "    .dataframe tbody tr th:only-of-type {\n",
       "        vertical-align: middle;\n",
       "    }\n",
       "\n",
       "    .dataframe tbody tr th {\n",
       "        vertical-align: top;\n",
       "    }\n",
       "\n",
       "    .dataframe thead th {\n",
       "        text-align: right;\n",
       "    }\n",
       "</style>\n",
       "<table border=\"1\" class=\"dataframe\">\n",
       "  <thead>\n",
       "    <tr style=\"text-align: right;\">\n",
       "      <th></th>\n",
       "      <th>Old</th>\n",
       "    </tr>\n",
       "  </thead>\n",
       "  <tbody>\n",
       "    <tr>\n",
       "      <th>0</th>\n",
       "      <td>1.JPG</td>\n",
       "    </tr>\n",
       "    <tr>\n",
       "      <th>1</th>\n",
       "      <td>2.JPG</td>\n",
       "    </tr>\n",
       "    <tr>\n",
       "      <th>2</th>\n",
       "      <td>3.JPG</td>\n",
       "    </tr>\n",
       "    <tr>\n",
       "      <th>3</th>\n",
       "      <td>4.JPG</td>\n",
       "    </tr>\n",
       "    <tr>\n",
       "      <th>4</th>\n",
       "      <td>5.JPG</td>\n",
       "    </tr>\n",
       "    <tr>\n",
       "      <th>5</th>\n",
       "      <td>6.JPG</td>\n",
       "    </tr>\n",
       "    <tr>\n",
       "      <th>6</th>\n",
       "      <td>7.JPG</td>\n",
       "    </tr>\n",
       "    <tr>\n",
       "      <th>7</th>\n",
       "      <td>8.JPG</td>\n",
       "    </tr>\n",
       "    <tr>\n",
       "      <th>8</th>\n",
       "      <td>9.JPG</td>\n",
       "    </tr>\n",
       "    <tr>\n",
       "      <th>9</th>\n",
       "      <td>10.JPG</td>\n",
       "    </tr>\n",
       "    <tr>\n",
       "      <th>10</th>\n",
       "      <td>11.JPG</td>\n",
       "    </tr>\n",
       "    <tr>\n",
       "      <th>11</th>\n",
       "      <td>12.JPG</td>\n",
       "    </tr>\n",
       "  </tbody>\n",
       "</table>\n",
       "</div>"
      ],
      "text/plain": [
       "        Old\n",
       "0     1.JPG\n",
       "1     2.JPG\n",
       "2     3.JPG\n",
       "3     4.JPG\n",
       "4     5.JPG\n",
       "5     6.JPG\n",
       "6     7.JPG\n",
       "7     8.JPG\n",
       "8     9.JPG\n",
       "9    10.JPG\n",
       "10   11.JPG\n",
       "11   12.JPG"
      ]
     },
     "execution_count": 117,
     "metadata": {},
     "output_type": "execute_result"
    }
   ],
   "source": [
    "# 创建空的 DataFrame，并将文件名插入到 \"OriginalFileNameColumn\" 列中\n",
    "df = pd.DataFrame(columns=['Old'])\n",
    "df['Old'] = files\n",
    "df"
   ]
  },
  {
   "cell_type": "code",
   "execution_count": 118,
   "id": "941b38f4",
   "metadata": {},
   "outputs": [],
   "source": [
    "# 将 DataFrame 写入 Excel 文件\n",
    "df.to_excel('Old.xlsx', index=False)"
   ]
  },
  {
   "cell_type": "code",
   "execution_count": 119,
   "id": "e9134d88",
   "metadata": {},
   "outputs": [
    {
     "data": {
      "text/html": [
       "<div>\n",
       "<style scoped>\n",
       "    .dataframe tbody tr th:only-of-type {\n",
       "        vertical-align: middle;\n",
       "    }\n",
       "\n",
       "    .dataframe tbody tr th {\n",
       "        vertical-align: top;\n",
       "    }\n",
       "\n",
       "    .dataframe thead th {\n",
       "        text-align: right;\n",
       "    }\n",
       "</style>\n",
       "<table border=\"1\" class=\"dataframe\">\n",
       "  <thead>\n",
       "    <tr style=\"text-align: right;\">\n",
       "      <th></th>\n",
       "      <th>New</th>\n",
       "      <th>Old</th>\n",
       "    </tr>\n",
       "  </thead>\n",
       "  <tbody>\n",
       "    <tr>\n",
       "      <th>0</th>\n",
       "      <td>3241-照2班-第1组-(吕洁琳-于凡雅-吕炜煌-张澄著)-咖啡厅照明设计对顾客体验的影响...</td>\n",
       "      <td>1.JPG</td>\n",
       "    </tr>\n",
       "    <tr>\n",
       "      <th>1</th>\n",
       "      <td>3241-照2班-第2组-(刘佳航-田桢-刘辛-邵叶敏辉)-庭院照明设计.JPG</td>\n",
       "      <td>2.JPG</td>\n",
       "    </tr>\n",
       "    <tr>\n",
       "      <th>2</th>\n",
       "      <td>3241-照2班-第3组-(莫迪菲-王科尧-刘菊-于潇)-古建筑灯光设计对人们视觉体验的影响...</td>\n",
       "      <td>3.JPG</td>\n",
       "    </tr>\n",
       "    <tr>\n",
       "      <th>3</th>\n",
       "      <td>3241-照2班-第4组-(丹增诺布（请假）-王滢钰-汪丽欣-农淋)-霓虹灯与城市照明.JPG</td>\n",
       "      <td>4.JPG</td>\n",
       "    </tr>\n",
       "    <tr>\n",
       "      <th>4</th>\n",
       "      <td>3241-照2班-第5组-(范晓康-樊利云-吴泽恒-牛昕宇)-高楼大厦的外部景观照明类型分析...</td>\n",
       "      <td>5.JPG</td>\n",
       "    </tr>\n",
       "    <tr>\n",
       "      <th>5</th>\n",
       "      <td>3241-照2班-第6组-(卢明权-石微-马芸薇-钱俊豪)-赌场的照明设计：以拉斯维加斯赌城...</td>\n",
       "      <td>6.JPG</td>\n",
       "    </tr>\n",
       "    <tr>\n",
       "      <th>6</th>\n",
       "      <td>3241-照2班-第7组-(陈敏-翁明阳-蒋傲奕-吕佩仪)-照明美学在餐厅设计中的运用.JPG</td>\n",
       "      <td>7.JPG</td>\n",
       "    </tr>\n",
       "    <tr>\n",
       "      <th>7</th>\n",
       "      <td>3241-照2班-第8组-(罗威-臧辰熙-罗维桦-高晟豪)-屏幕挂灯里的照明美学.JPG</td>\n",
       "      <td>8.JPG</td>\n",
       "    </tr>\n",
       "    <tr>\n",
       "      <th>8</th>\n",
       "      <td>3241-照2班-第9组-(彭圣淇-陈季韬-郭佳垚-樊雯洁)-英雄联盟总决赛现场灯光研究.JPG</td>\n",
       "      <td>9.JPG</td>\n",
       "    </tr>\n",
       "    <tr>\n",
       "      <th>9</th>\n",
       "      <td>3241-照2班-第10组-(陈阅微-侯佳彤-仝可一-汪娜)-舞台灯位设计介绍.JPG</td>\n",
       "      <td>10.JPG</td>\n",
       "    </tr>\n",
       "    <tr>\n",
       "      <th>10</th>\n",
       "      <td>3241-照2班-第11组-(赵桂羚-陈钰-卓振益-张骞)-赏析奢侈品店照明美学.JPG</td>\n",
       "      <td>11.JPG</td>\n",
       "    </tr>\n",
       "    <tr>\n",
       "      <th>11</th>\n",
       "      <td>3241-照2班-第12组-(刘泞菡-刘琦荟-戴少杰)-图书馆照明分析与优化—以厦门大学思明...</td>\n",
       "      <td>12.JPG</td>\n",
       "    </tr>\n",
       "  </tbody>\n",
       "</table>\n",
       "</div>"
      ],
      "text/plain": [
       "                                                  New      Old\n",
       "0   3241-照2班-第1组-(吕洁琳-于凡雅-吕炜煌-张澄著)-咖啡厅照明设计对顾客体验的影响...    1.JPG\n",
       "1            3241-照2班-第2组-(刘佳航-田桢-刘辛-邵叶敏辉)-庭院照明设计.JPG    2.JPG\n",
       "2   3241-照2班-第3组-(莫迪菲-王科尧-刘菊-于潇)-古建筑灯光设计对人们视觉体验的影响...    3.JPG\n",
       "3     3241-照2班-第4组-(丹增诺布（请假）-王滢钰-汪丽欣-农淋)-霓虹灯与城市照明.JPG    4.JPG\n",
       "4   3241-照2班-第5组-(范晓康-樊利云-吴泽恒-牛昕宇)-高楼大厦的外部景观照明类型分析...    5.JPG\n",
       "5   3241-照2班-第6组-(卢明权-石微-马芸薇-钱俊豪)-赌场的照明设计：以拉斯维加斯赌城...    6.JPG\n",
       "6     3241-照2班-第7组-(陈敏-翁明阳-蒋傲奕-吕佩仪)-照明美学在餐厅设计中的运用.JPG    7.JPG\n",
       "7        3241-照2班-第8组-(罗威-臧辰熙-罗维桦-高晟豪)-屏幕挂灯里的照明美学.JPG    8.JPG\n",
       "8    3241-照2班-第9组-(彭圣淇-陈季韬-郭佳垚-樊雯洁)-英雄联盟总决赛现场灯光研究.JPG    9.JPG\n",
       "9         3241-照2班-第10组-(陈阅微-侯佳彤-仝可一-汪娜)-舞台灯位设计介绍.JPG   10.JPG\n",
       "10       3241-照2班-第11组-(赵桂羚-陈钰-卓振益-张骞)-赏析奢侈品店照明美学.JPG   11.JPG\n",
       "11  3241-照2班-第12组-(刘泞菡-刘琦荟-戴少杰)-图书馆照明分析与优化—以厦门大学思明...   12.JPG"
      ]
     },
     "execution_count": 119,
     "metadata": {},
     "output_type": "execute_result"
    }
   ],
   "source": [
    "# 从 Excel 文件读取新文件名并重命名文件\n",
    "New = pd.read_excel('New.xlsx')\n",
    "Old = pd.read_excel('Old.xlsx')\n",
    "df_combined = pd.concat([New, Old], axis = 1)\n",
    "df_combined"
   ]
  },
  {
   "cell_type": "code",
   "execution_count": 120,
   "id": "49854aed",
   "metadata": {},
   "outputs": [
    {
     "name": "stdout",
     "output_type": "stream",
     "text": [
      "Renamed  1.JPG to 3241-照2班-第1组-(吕洁琳-于凡雅-吕炜煌-张澄著)-咖啡厅照明设计对顾客体验的影响.JPG\n",
      "Renamed  2.JPG to 3241-照2班-第2组-(刘佳航-田桢-刘辛-邵叶敏辉)-庭院照明设计.JPG\n",
      "Renamed  3.JPG to 3241-照2班-第3组-(莫迪菲-王科尧-刘菊-于潇)-古建筑灯光设计对人们视觉体验的影响.JPG\n",
      "Renamed  4.JPG to 3241-照2班-第4组-(丹增诺布（请假）-王滢钰-汪丽欣-农淋)-霓虹灯与城市照明.JPG\n",
      "Renamed  5.JPG to 3241-照2班-第5组-(范晓康-樊利云-吴泽恒-牛昕宇)-高楼大厦的外部景观照明类型分析.JPG\n",
      "Renamed  6.JPG to 3241-照2班-第6组-(卢明权-石微-马芸薇-钱俊豪)-赌场的照明设计：以拉斯维加斯赌城为例.JPG\n",
      "Renamed  7.JPG to 3241-照2班-第7组-(陈敏-翁明阳-蒋傲奕-吕佩仪)-照明美学在餐厅设计中的运用.JPG\n",
      "Renamed  8.JPG to 3241-照2班-第8组-(罗威-臧辰熙-罗维桦-高晟豪)-屏幕挂灯里的照明美学.JPG\n",
      "Renamed  9.JPG to 3241-照2班-第9组-(彭圣淇-陈季韬-郭佳垚-樊雯洁)-英雄联盟总决赛现场灯光研究.JPG\n",
      "Renamed  10.JPG to 3241-照2班-第10组-(陈阅微-侯佳彤-仝可一-汪娜)-舞台灯位设计介绍.JPG\n",
      "Renamed  11.JPG to 3241-照2班-第11组-(赵桂羚-陈钰-卓振益-张骞)-赏析奢侈品店照明美学.JPG\n",
      "Renamed  12.JPG to 3241-照2班-第12组-(刘泞菡-刘琦荟-戴少杰)-图书馆照明分析与优化—以厦门大学思明校区图书馆总馆为例.JPG\n"
     ]
    }
   ],
   "source": [
    "for index, row in df_combined.iterrows():\n",
    "    old_path = os.path.join(directory, row['Old'])\n",
    "    new_path = os.path.join(directory, row['New'])\n",
    "\n",
    "    # 重命名文件\n",
    "    os.rename(old_path, new_path)\n",
    "\n",
    "    print(f'Renamed {row[\"Old\"]} to {row[\"New\"]}')"
   ]
  },
  {
   "cell_type": "code",
   "execution_count": null,
   "id": "70bdf796",
   "metadata": {},
   "outputs": [],
   "source": []
  }
 ],
 "metadata": {
  "kernelspec": {
   "display_name": "Python 3 (ipykernel)",
   "language": "python",
   "name": "python3"
  },
  "language_info": {
   "codemirror_mode": {
    "name": "ipython",
    "version": 3
   },
   "file_extension": ".py",
   "mimetype": "text/x-python",
   "name": "python",
   "nbconvert_exporter": "python",
   "pygments_lexer": "ipython3",
   "version": "3.10.9"
  }
 },
 "nbformat": 4,
 "nbformat_minor": 5
}
